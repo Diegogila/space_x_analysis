{
 "cells": [
  {
   "cell_type": "markdown",
   "id": "4279e34b",
   "metadata": {},
   "source": [
    "# Space X Analisis"
   ]
  },
  {
   "cell_type": "markdown",
   "id": "6a4e1730",
   "metadata": {},
   "source": [
    "### Import Data and Define Auxiliary Functions"
   ]
  },
  {
   "cell_type": "markdown",
   "id": "492b289c",
   "metadata": {},
   "source": [
    "Import libraries"
   ]
  },
  {
   "cell_type": "code",
   "execution_count": 3,
   "id": "e8979367",
   "metadata": {},
   "outputs": [],
   "source": [
    "import requests\n",
    "import pandas as pd\n",
    "import numpy as np\n",
    "import datetime\n",
    "\n",
    "#Setting this option will print all columns of a dataframe\n",
    "pd.set_option('display.max_columns',None)\n",
    "#Setting this option will print all of the data in a feature\n",
    "pd.set_option('display.max_colwidth',None)"
   ]
  },
  {
   "cell_type": "code",
   "execution_count": null,
   "id": "e3e77cee",
   "metadata": {},
   "outputs": [],
   "source": [
    "def getBoosterVersion(data):\n",
    "    for x in data['rocket']:\n",
    "        if x:\n",
    "            response = requests.get(f\"https://api.spacexdata.com/v4/rockets/{str(x)}\").json()\n",
    "            BoosterVersion.append(response['name'])\n",
    "\n",
    "def getLaunchSite(data):\n",
    "    for x in data['launchpad']:\n",
    "        if x:\n",
    "            response = requests.get(f\"https://api.spacexdata.com/v4/launchpads/{str(x)}\").json()\n",
    "            Longitude.append(response['longitude'])\n",
    "            Latitude.append(response['latitude'])\n",
    "            LaunchSite.append(response['name'])\n",
    "\n",
    "def getPayloadData(data):\n",
    "    for load in data['payloads']:\n",
    "        if load:\n",
    "            response = requests.get(\"https://api.spacexdata.com/v4/payloads/\"+load).json()\n",
    "            PayloadMass.append(response['mass_kg'])\n",
    "            Orbit.append(response['orbit'])\n",
    "\n",
    "def getCoreData(data):\n",
    "    for core in data['cores']:\n",
    "            if core['core'] != None:\n",
    "                response = requests.get(\"https://api.spacexdata.com/v4/cores/\"+core['core']).json()\n",
    "                Block.append(response['block'])\n",
    "                ReusedCount.append(response['reuse_count'])\n",
    "                Serial.append(response['serial'])\n",
    "            else:\n",
    "                Block.append(None)\n",
    "                ReusedCount.append(None)\n",
    "                Serial.append(None)\n",
    "                Outcome.append(str(core['landing_success'])+' '+str(core['landing_type']))\n",
    "                Flights.append(core['flight'])\n",
    "                GridFins.append(core['gridfins'])\n",
    "                Reused.append(core['reused'])\n",
    "                Legs.append(core['legs'])\n",
    "                LandingPad.append(core['landpad'])\n"
   ]
  },
  {
   "cell_type": "code",
   "execution_count": 6,
   "id": "ff68aeaf",
   "metadata": {},
   "outputs": [],
   "source": [
    "spacex_url = \"https://api.spacexdata.com/v4/launches/past\""
   ]
  },
  {
   "cell_type": "code",
   "execution_count": 24,
   "id": "886ddfc5",
   "metadata": {},
   "outputs": [
    {
     "data": {
      "text/plain": [
       "0    [{'core': '5e9e289df35918033d3b2623', 'flight': 1, 'gridfins': False, 'legs': False, 'reused': False, 'landing_attempt': False, 'landing_success': None, 'landing_type': None, 'landpad': None}]\n",
       "1    [{'core': '5e9e289ef35918416a3b2624', 'flight': 1, 'gridfins': False, 'legs': False, 'reused': False, 'landing_attempt': False, 'landing_success': None, 'landing_type': None, 'landpad': None}]\n",
       "2    [{'core': '5e9e289ef3591814873b2625', 'flight': 1, 'gridfins': False, 'legs': False, 'reused': False, 'landing_attempt': False, 'landing_success': None, 'landing_type': None, 'landpad': None}]\n",
       "3    [{'core': '5e9e289ef3591855dc3b2626', 'flight': 1, 'gridfins': False, 'legs': False, 'reused': False, 'landing_attempt': False, 'landing_success': None, 'landing_type': None, 'landpad': None}]\n",
       "4    [{'core': '5e9e289ef359184f103b2627', 'flight': 1, 'gridfins': False, 'legs': False, 'reused': False, 'landing_attempt': False, 'landing_success': None, 'landing_type': None, 'landpad': None}]\n",
       "Name: cores, dtype: object"
      ]
     },
     "execution_count": 24,
     "metadata": {},
     "output_type": "execute_result"
    }
   ],
   "source": [
    "response = requests.get(spacex_url).json()\n",
    "\n",
    "data = pd.json_normalize(response)\n",
    "data['cores'].head()"
   ]
  },
  {
   "cell_type": "code",
   "execution_count": 25,
   "id": "cf53a15f",
   "metadata": {},
   "outputs": [],
   "source": [
    "data = data[['rocket','payloads','launchpad','cores','flight_number', 'date_utc']]\n",
    "\n",
    "data = data[data['cores'].map(len) == 1]\n",
    "data = data[data['payloads'].map(len) == 1]\n",
    "\n",
    "data['cores'] = data['cores'].map(lambda x : x[0])\n",
    "data['payloads'] = data['payloads'].map(lambda x : x[0])\n",
    "\n",
    "data['date'] = pd.to_datetime(data['date_utc']).dt.date\n",
    "\n",
    "data = data[data['date'] <= datetime.date(2020,11,13)]\n",
    "\n"
   ]
  },
  {
   "cell_type": "markdown",
   "id": "6f83d284",
   "metadata": {},
   "source": [
    "Global Variables"
   ]
  },
  {
   "cell_type": "code",
   "execution_count": 41,
   "id": "026f59ca",
   "metadata": {},
   "outputs": [],
   "source": [
    "BoosterVersion = []\n",
    "PayloadMass = []\n",
    "Orbit = []\n",
    "LaunchSite = []\n",
    "Outcome = []\n",
    "Flights = []\n",
    "GridFins = []\n",
    "Reused = []\n",
    "Legs = []\n",
    "LandingPad = []\n",
    "Block = []\n",
    "ReusedCount = []\n",
    "Serial = []\n",
    "Longitude = []\n",
    "Latitude = []"
   ]
  },
  {
   "cell_type": "code",
   "execution_count": 42,
   "id": "5066902e",
   "metadata": {},
   "outputs": [],
   "source": [
    "getBoosterVersion(data)\n",
    "getLaunchSite(data)\n",
    "getPayloadData(data)\n",
    "getCoreData(data)"
   ]
  },
  {
   "cell_type": "code",
   "execution_count": 49,
   "id": "c2022b19",
   "metadata": {},
   "outputs": [
    {
     "data": {
      "text/plain": [
       "[None,\n",
       " None,\n",
       " None,\n",
       " None,\n",
       " 1,\n",
       " 1,\n",
       " 1,\n",
       " 1,\n",
       " 1,\n",
       " 1,\n",
       " 1,\n",
       " 1,\n",
       " 1,\n",
       " 1,\n",
       " 1,\n",
       " 1,\n",
       " 1,\n",
       " 1,\n",
       " 1,\n",
       " 1,\n",
       " 1,\n",
       " 1,\n",
       " 1,\n",
       " 2,\n",
       " 2,\n",
       " 2,\n",
       " 2,\n",
       " 2,\n",
       " 3,\n",
       " 3,\n",
       " 3,\n",
       " 3,\n",
       " 2,\n",
       " 3,\n",
       " 3,\n",
       " 3,\n",
       " 3,\n",
       " 3,\n",
       " 3,\n",
       " 4,\n",
       " 3,\n",
       " 4,\n",
       " 4,\n",
       " 3,\n",
       " 4,\n",
       " 3,\n",
       " 3,\n",
       " 4,\n",
       " 3,\n",
       " 4,\n",
       " 4,\n",
       " 4,\n",
       " 4,\n",
       " 5,\n",
       " 4,\n",
       " 4,\n",
       " 5,\n",
       " 5,\n",
       " 5,\n",
       " 5,\n",
       " 5,\n",
       " 5,\n",
       " 5,\n",
       " 5,\n",
       " 5,\n",
       " 5,\n",
       " 5,\n",
       " 5,\n",
       " 5,\n",
       " 5,\n",
       " 5,\n",
       " 5,\n",
       " 5,\n",
       " 5,\n",
       " 5,\n",
       " 5,\n",
       " 5,\n",
       " 5,\n",
       " 5,\n",
       " 5,\n",
       " 5,\n",
       " 5,\n",
       " 5,\n",
       " 5,\n",
       " 5,\n",
       " 5,\n",
       " 5,\n",
       " 5,\n",
       " 5,\n",
       " 5,\n",
       " 5,\n",
       " 5,\n",
       " 5,\n",
       " 5]"
      ]
     },
     "execution_count": 49,
     "metadata": {},
     "output_type": "execute_result"
    }
   ],
   "source": [
    "Block"
   ]
  },
  {
   "cell_type": "code",
   "execution_count": 45,
   "id": "685f9a01",
   "metadata": {},
   "outputs": [],
   "source": [
    "launch_dict = {\n",
    "    'FlightNumber': list(data['flight_number']),\n",
    "    'Date': list(data['date']),\n",
    "    'BoosterVersion':BoosterVersion,\n",
    "    'PayloadMass':PayloadMass,\n",
    "    'Orbit':Orbit,\n",
    "    'LaunchSite':LaunchSite,\n",
    "    'Outcome':Outcome,\n",
    "    'Flights':Flights,\n",
    "    'GridFins':GridFins,\n",
    "    'Reused':Reused,\n",
    "    'Legs':Legs,\n",
    "    'LandingPad':LandingPad,\n",
    "    'Block':Block,\n",
    "    'ReusedCount':ReusedCount,\n",
    "    'Serial':Serial,\n",
    "    'Longitude': Longitude,\n",
    "    'Latitude': Latitude\n",
    "}"
   ]
  },
  {
   "cell_type": "code",
   "execution_count": 46,
   "id": "78582865",
   "metadata": {},
   "outputs": [
    {
     "name": "stdout",
     "output_type": "stream",
     "text": [
      "FlightNumber: 94\n",
      "Date: 94\n",
      "BoosterVersion: 94\n",
      "PayloadMass: 94\n",
      "Orbit: 94\n",
      "LaunchSite: 94\n",
      "Outcome: 0\n",
      "Flights: 0\n",
      "GridFins: 0\n",
      "Reused: 0\n",
      "Legs: 0\n",
      "LandingPad: 0\n",
      "Block: 94\n",
      "ReusedCount: 94\n",
      "Serial: 94\n",
      "Longitude: 94\n",
      "Latitude: 94\n"
     ]
    }
   ],
   "source": [
    "for x, y in launch_dict.items():\n",
    "    print(f'{x}: {len(y)}')"
   ]
  },
  {
   "cell_type": "code",
   "execution_count": 48,
   "id": "97090447",
   "metadata": {},
   "outputs": [
    {
     "name": "stdout",
     "output_type": "stream",
     "text": [
      "[]\n",
      "[]\n",
      "[]\n",
      "[]\n",
      "[]\n",
      "[]\n"
     ]
    }
   ],
   "source": [
    "print(Outcome[0:5])\n",
    "print(Flights[0:5])\n",
    "print(GridFins[0:5])\n",
    "print(Reused[0:5])\n",
    "print(Legs[0:5])\n",
    "print(LandingPad[0:5])\n"
   ]
  },
  {
   "cell_type": "code",
   "execution_count": null,
   "id": "e37be4f6",
   "metadata": {},
   "outputs": [],
   "source": []
  }
 ],
 "metadata": {
  "kernelspec": {
   "display_name": "DScoursera",
   "language": "python",
   "name": "python3"
  },
  "language_info": {
   "codemirror_mode": {
    "name": "ipython",
    "version": 3
   },
   "file_extension": ".py",
   "mimetype": "text/x-python",
   "name": "python",
   "nbconvert_exporter": "python",
   "pygments_lexer": "ipython3",
   "version": "3.9.18"
  }
 },
 "nbformat": 4,
 "nbformat_minor": 5
}
